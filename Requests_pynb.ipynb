{
  "nbformat": 4,
  "nbformat_minor": 0,
  "metadata": {
    "colab": {
      "name": "Requests.pynb",
      "provenance": [],
      "collapsed_sections": [],
      "authorship_tag": "ABX9TyPo0II4qbcx+4dOmc4OSLZr",
      "include_colab_link": true
    },
    "kernelspec": {
      "name": "python3",
      "display_name": "Python 3"
    }
  },
  "cells": [
    {
      "cell_type": "markdown",
      "metadata": {
        "id": "view-in-github",
        "colab_type": "text"
      },
      "source": [
        "<a href=\"https://colab.research.google.com/github/gyanbatch1/AIML/blob/master/Requests_pynb.ipynb\" target=\"_parent\"><img src=\"https://colab.research.google.com/assets/colab-badge.svg\" alt=\"Open In Colab\"/></a>"
      ]
    },
    {
      "cell_type": "markdown",
      "metadata": {
        "id": "iM99VmTuHyQz"
      },
      "source": [
        "Convert Json to Python"
      ]
    },
    {
      "cell_type": "code",
      "metadata": {
        "colab": {
          "base_uri": "https://localhost:8080/"
        },
        "id": "j2hGRmQnH1Fa",
        "outputId": "df571bd1-cb3d-4268-aae4-278d6fa48986"
      },
      "source": [
        "import json\r\n",
        "\r\n",
        "# some JSON:\r\n",
        "x =  '{ \"name\":\"John\", \"age\":30, \"city\":\"New York\"}'\r\n",
        "\r\n",
        "# parse x:\r\n",
        "y = json.loads(x)\r\n",
        "\r\n",
        "# the result is a Python dictionary:\r\n",
        "print(y[\"age\"]) "
      ],
      "execution_count": 1,
      "outputs": [
        {
          "output_type": "stream",
          "text": [
            "30\n"
          ],
          "name": "stdout"
        }
      ]
    },
    {
      "cell_type": "markdown",
      "metadata": {
        "id": "0VgTx3eZH4tC"
      },
      "source": [
        "Python to Json"
      ]
    },
    {
      "cell_type": "code",
      "metadata": {
        "colab": {
          "base_uri": "https://localhost:8080/"
        },
        "id": "uNUFmO6SH6RS",
        "outputId": "460e652c-e5aa-48ca-c300-fd66176d3e90"
      },
      "source": [
        "import json\r\n",
        "\r\n",
        "# a Python object (dict):\r\n",
        "x = {\r\n",
        "  \"name\": \"John\",\r\n",
        "  \"age\": 30,\r\n",
        "  \"city\": \"New York\"\r\n",
        "}\r\n",
        "\r\n",
        "# convert into JSON:\r\n",
        "y = json.dumps(x)\r\n",
        "\r\n",
        "# the result is a JSON string:\r\n",
        "print(y) "
      ],
      "execution_count": 2,
      "outputs": [
        {
          "output_type": "stream",
          "text": [
            "{\"name\": \"John\", \"age\": 30, \"city\": \"New York\"}\n"
          ],
          "name": "stdout"
        }
      ]
    },
    {
      "cell_type": "code",
      "metadata": {
        "colab": {
          "base_uri": "https://localhost:8080/"
        },
        "id": "dNsx8s5yICuD",
        "outputId": "91b0ac5a-9faf-4a38-9408-8d64fdd4fc54"
      },
      "source": [
        "import json\r\n",
        "\r\n",
        "x = {\r\n",
        "  \"name\": \"John\",\r\n",
        "  \"age\": 30,\r\n",
        "  \"married\": True,\r\n",
        "  \"divorced\": False,\r\n",
        "  \"children\": (\"Ann\",\"Billy\"),\r\n",
        "  \"pets\": None,\r\n",
        "  \"cars\": [\r\n",
        "    {\"model\": \"BMW 230\", \"mpg\": 27.5},\r\n",
        "    {\"model\": \"Ford Edge\", \"mpg\": 24.1}\r\n",
        "  ]\r\n",
        "}\r\n",
        "\r\n",
        "print(json.dumps(x))"
      ],
      "execution_count": 3,
      "outputs": [
        {
          "output_type": "stream",
          "text": [
            "{\"name\": \"John\", \"age\": 30, \"married\": true, \"divorced\": false, \"children\": [\"Ann\", \"Billy\"], \"pets\": null, \"cars\": [{\"model\": \"BMW 230\", \"mpg\": 27.5}, {\"model\": \"Ford Edge\", \"mpg\": 24.1}]}\n"
          ],
          "name": "stdout"
        }
      ]
    },
    {
      "cell_type": "code",
      "metadata": {
        "id": "iKaGc3NQkD5w"
      },
      "source": [
        "from urllib import request\r\n",
        "\r\n",
        "url = \"http://www.gutenberg.org/files/2554/2554-0.txt\"\r\n",
        "\r\n",
        "response = request.urlopen(url)\r\n",
        "raw = response.read()\r\n",
        "text = raw.decode(\"utf-8-sig\")"
      ],
      "execution_count": 4,
      "outputs": []
    },
    {
      "cell_type": "code",
      "metadata": {
        "id": "ELnC7tb8mWlw"
      },
      "source": [
        "print(text)"
      ],
      "execution_count": null,
      "outputs": []
    },
    {
      "cell_type": "code",
      "metadata": {
        "id": "3pzRaAqj6ajq"
      },
      "source": [
        "# Store url\r\n",
        "url = 'https://www.gutenberg.org/files/2701/2701-h/2701-h.htm'"
      ],
      "execution_count": 11,
      "outputs": []
    },
    {
      "cell_type": "code",
      "metadata": {
        "colab": {
          "base_uri": "https://localhost:8080/"
        },
        "id": "5K0hgJoq6XN0",
        "outputId": "09e43549-f626-4094-92ac-eacfee959ed5"
      },
      "source": [
        "# Import `requests`\r\n",
        "import requests\r\n",
        "\r\n",
        "# Make the request and check object type\r\n",
        "r = requests.get(url)\r\n",
        "type(r)"
      ],
      "execution_count": 12,
      "outputs": [
        {
          "output_type": "execute_result",
          "data": {
            "text/plain": [
              "requests.models.Response"
            ]
          },
          "metadata": {
            "tags": []
          },
          "execution_count": 12
        }
      ]
    },
    {
      "cell_type": "code",
      "metadata": {
        "id": "v7Rr3ovS76J9",
        "colab": {
          "base_uri": "https://localhost:8080/"
        },
        "outputId": "386fcf0a-c79b-41ba-a7d3-cc145dfac415"
      },
      "source": [
        "print(r)"
      ],
      "execution_count": 13,
      "outputs": [
        {
          "output_type": "stream",
          "text": [
            "<Response [200]>\n"
          ],
          "name": "stdout"
        }
      ]
    }
  ]
}