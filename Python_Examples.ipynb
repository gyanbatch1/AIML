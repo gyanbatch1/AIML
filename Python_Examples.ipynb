{
  "nbformat": 4,
  "nbformat_minor": 0,
  "metadata": {
    "colab": {
      "name": "Python Examples",
      "provenance": [],
      "collapsed_sections": [],
      "authorship_tag": "ABX9TyMR2wn+4FXMubuB9GktphOY",
      "include_colab_link": true
    },
    "kernelspec": {
      "name": "python3",
      "display_name": "Python 3"
    }
  },
  "cells": [
    {
      "cell_type": "markdown",
      "metadata": {
        "id": "view-in-github",
        "colab_type": "text"
      },
      "source": [
        "<a href=\"https://colab.research.google.com/github/gyanbatch1/AIML/blob/master/Python_Examples.ipynb\" target=\"_parent\"><img src=\"https://colab.research.google.com/assets/colab-badge.svg\" alt=\"Open In Colab\"/></a>"
      ]
    },
    {
      "cell_type": "code",
      "metadata": {
        "id": "HtM9fm2oAruX",
        "colab_type": "code",
        "outputId": "6fa7cca8-ce2b-4026-a157-6c1a044cca9d",
        "colab": {
          "base_uri": "https://localhost:8080/",
          "height": 35
        }
      },
      "source": [
        "\n",
        "a_list = ['hello', 'iam', 'good', 'hello', 'good']\n",
        "duplicates = []\n",
        "\n",
        "for item in a_list:\n",
        "    if a_list.count(item) > 1:\n",
        "        duplicates.append(item)\n",
        "print(duplicates)"
      ],
      "execution_count": 0,
      "outputs": [
        {
          "output_type": "stream",
          "text": [
            "['hello', 'good', 'hello', 'good']\n"
          ],
          "name": "stdout"
        }
      ]
    },
    {
      "cell_type": "code",
      "metadata": {
        "id": "N0XNbgLYBGYg",
        "colab_type": "code",
        "outputId": "0e8053a1-da09-48fb-afab-4ba8bbaab782",
        "colab": {
          "base_uri": "https://localhost:8080/",
          "height": 35
        }
      },
      "source": [
        "mylist = ['hello', 'iam', 'good', 'hello', 'good']\n",
        "mylist = list(dict.fromkeys(mylist))\n",
        "print(mylist) "
      ],
      "execution_count": 0,
      "outputs": [
        {
          "output_type": "stream",
          "text": [
            "['hello', 'iam', 'good']\n"
          ],
          "name": "stdout"
        }
      ]
    },
    {
      "cell_type": "code",
      "metadata": {
        "id": "KRk0Vt5WI_tn",
        "colab_type": "code",
        "outputId": "5b749cc6-2cc9-4849-8c97-c20160892e09",
        "colab": {
          "base_uri": "https://localhost:8080/",
          "height": 54
        }
      },
      "source": [
        "def reverseWords(input): \n",
        "      \n",
        "    inputWords = input.split(\" \") \n",
        "    \n",
        "    inputWords=inputWords[-1::-1] \n",
        "  \n",
        "    # now join words with space \n",
        "    output = ' '.join(inputWords) \n",
        "      \n",
        "    return output \n",
        "  \n",
        "if __name__ == \"__main__\": \n",
        "    input = 'geeks quiz practice code'\n",
        "    print(input)\n",
        "    print(reverseWords(input))"
      ],
      "execution_count": 0,
      "outputs": [
        {
          "output_type": "stream",
          "text": [
            "geeks quiz practice code\n",
            "code practice quiz geeks\n"
          ],
          "name": "stdout"
        }
      ]
    },
    {
      "cell_type": "code",
      "metadata": {
        "id": "CNDeSV1PNM32",
        "colab_type": "code",
        "outputId": "cf42e1cb-1785-4040-c377-03ad468d4f0e",
        "colab": {
          "base_uri": "https://localhost:8080/",
          "height": 90
        }
      },
      "source": [
        "#How to Reverse the Sentence with a words\n",
        "story = \"Hello, I am very to hear about job offer\"\n",
        "story = story.split(\" \")\n",
        "print(story)\n",
        "print(type(story))\n",
        "int_story = story[-1::-1]\n",
        "print(int_story)\n",
        "reverse_story = \" \".join(int_story)\n",
        "print(reverse_story)"
      ],
      "execution_count": 0,
      "outputs": [
        {
          "output_type": "stream",
          "text": [
            "['Hello,', 'I', 'am', 'very', 'to', 'hear', 'about', 'job', 'offer']\n",
            "<class 'list'>\n",
            "['offer', 'job', 'about', 'hear', 'to', 'very', 'am', 'I', 'Hello,']\n",
            "offer job about hear to very am I Hello,\n"
          ],
          "name": "stdout"
        }
      ]
    },
    {
      "cell_type": "markdown",
      "metadata": {
        "id": "iryg6eHIRIQa",
        "colab_type": "text"
      },
      "source": [
        "Connecting to Google Drive and Accessing the Folders / Files"
      ]
    },
    {
      "cell_type": "code",
      "metadata": {
        "id": "fqOxez7lPuxg",
        "colab_type": "code",
        "outputId": "e9c9688b-8a5c-4a00-fdfa-74d186fc9356",
        "colab": {
          "base_uri": "https://localhost:8080/",
          "height": 129
        }
      },
      "source": [
        "from google.colab import drive\n",
        "drive.mount('/content/gdrive', force_remount=True)\n",
        "root_dir = \"/content/gdrive/My Drive/\"\n",
        "base_dir = root_dir + 'Colab Notebooks/'\n"
      ],
      "execution_count": 0,
      "outputs": [
        {
          "output_type": "stream",
          "text": [
            "Go to this URL in a browser: https://accounts.google.com/o/oauth2/auth?client_id=947318989803-6bn6qk8qdgf4n4g3pfee6491hc0brc4i.apps.googleusercontent.com&redirect_uri=urn%3aietf%3awg%3aoauth%3a2.0%3aoob&response_type=code&scope=email%20https%3a%2f%2fwww.googleapis.com%2fauth%2fdocs.test%20https%3a%2f%2fwww.googleapis.com%2fauth%2fdrive%20https%3a%2f%2fwww.googleapis.com%2fauth%2fdrive.photos.readonly%20https%3a%2f%2fwww.googleapis.com%2fauth%2fpeopleapi.readonly\n",
            "\n",
            "Enter your authorization code:\n",
            "··········\n",
            "Mounted at /content/gdrive\n"
          ],
          "name": "stdout"
        }
      ]
    },
    {
      "cell_type": "code",
      "metadata": {
        "id": "5HYQFKn1QXU2",
        "colab_type": "code",
        "outputId": "8e332dce-ada9-4fce-9a1d-10d2c3e1ce38",
        "colab": {
          "base_uri": "https://localhost:8080/",
          "height": 35
        }
      },
      "source": [
        "dataset_path =base_dir + 'Dataset'\n",
        "dataset_path\n",
        "#To view the list of files\n",
        "!ls '/content/gdrive/My Drive/Colab Notebooks/Dataset'\n"
      ],
      "execution_count": 0,
      "outputs": [
        {
          "output_type": "stream",
          "text": [
            "creditcard.csv\tcreditcard.zip\tnyc_job.zip\n"
          ],
          "name": "stdout"
        }
      ]
    },
    {
      "cell_type": "code",
      "metadata": {
        "id": "KJc65GXOQSDT",
        "colab_type": "code",
        "colab": {}
      },
      "source": [
        "path = Path(base_dir + 'data/bears')\n",
        "dest = path/folder\n",
        "dest.mkdir(parents=True, exist_ok=True)\n"
      ],
      "execution_count": 0,
      "outputs": []
    }
  ]
}