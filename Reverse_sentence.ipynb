{
  "nbformat": 4,
  "nbformat_minor": 0,
  "metadata": {
    "colab": {
      "name": "Reverse_sentence.ipynb",
      "provenance": [],
      "authorship_tag": "ABX9TyNp1m/Ml72Y+AZ8QvNV8nRO",
      "include_colab_link": true
    },
    "kernelspec": {
      "name": "python3",
      "display_name": "Python 3"
    }
  },
  "cells": [
    {
      "cell_type": "markdown",
      "metadata": {
        "id": "view-in-github",
        "colab_type": "text"
      },
      "source": [
        "<a href=\"https://colab.research.google.com/github/gyanbatch1/AIML/blob/master/Reverse_sentence.ipynb\" target=\"_parent\"><img src=\"https://colab.research.google.com/assets/colab-badge.svg\" alt=\"Open In Colab\"/></a>"
      ]
    },
    {
      "cell_type": "code",
      "metadata": {
        "id": "tGVnKzZj81q-",
        "colab_type": "code",
        "colab": {
          "base_uri": "https://localhost:8080/",
          "height": 72
        },
        "outputId": "81223985-39fd-4a3d-b574-4879e9e3d86c"
      },
      "source": [
        "news = \" This is a Story\"\n",
        "len(news)\n",
        "news_v = news.split(\" \")\n",
        "print(news_v)\n",
        "rev_news =news_v[-1::-1]\n",
        "print(rev_news)\n",
        "reverse_news = ' '.join(rev_news)\n",
        "print(reverse_news)"
      ],
      "execution_count": 4,
      "outputs": [
        {
          "output_type": "stream",
          "text": [
            "['', 'This', 'is', 'a', 'Story']\n",
            "['Story', 'a', 'is', 'This', '']\n",
            "Story a is This \n"
          ],
          "name": "stdout"
        }
      ]
    }
  ]
}